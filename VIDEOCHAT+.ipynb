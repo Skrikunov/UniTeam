{
 "cells": [
  {
   "cell_type": "code",
   "execution_count": 3,
   "metadata": {},
   "outputs": [
    {
     "name": "stdout",
     "output_type": "stream",
     "text": [
      "^C\n"
     ]
    },
    {
     "name": "stderr",
     "output_type": "stream",
     "text": [
      "INFO: Created TensorFlow Lite XNNPACK delegate for CPU.\n"
     ]
    }
   ],
   "source": [
    "# UDP_IP = '192.168.66.62'      # M31\n",
    "UDP_IP = '10.16.104.38'     # skoltech 5g\n",
    "UDP_PORT = 5000\n",
    "\n",
    "# only server\n",
    "!python UDPs.py -i {UDP_IP} -p {UDP_PORT}\n",
    "\n",
    "# only client (.py)\n",
    "# !python UDPc.py -i {UDP_IP} -p {UDP_PORT} -f 1 -s 0\n",
    "# only client (.exe)\n",
    "# !.\\tetris.exe -i {UDP_IP} -p {UDP_PORT} -f 1 -s 0\n",
    "\n",
    "# server + 1 client (.py, camera)\n",
    "# !python UDPs.py -i {UDP_IP} -p {UDP_PORT} & python UDPc.py -i {UDP_IP} -p {UDP_PORT} -f 1 -s 0\n",
    "\n",
    "# server + 1 client (video)\n",
    "# !python UDPs.py -i {UDP_IP} -p {UDP_PORT} & python UDPc.py -i {UDP_IP} -p {UDP_PORT} -f 7 -s 1\n",
    "\n",
    "# server + 4 clients (video)\n",
    "# !python UDPs.py -i {UDP_IP} -p {UDP_PORT} & python UDPc.py -i {UDP_IP} -p {UDP_PORT} -f 1 & python UDPc.py -i {UDP_IP} -p {UDP_PORT} -f 2 & python UDPc.py -i {UDP_IP} -p {UDP_PORT} -f 3 & python UDPc.py -i {UDP_IP} -p {UDP_PORT} -f 4 \n",
    "# !python UDPs.py -i {UDP_IP} -p {UDP_PORT} & python UDPc.py -i {UDP_IP} -p {UDP_PORT} -f 7 -s 1 & python UDPc.py -i {UDP_IP} -p {UDP_PORT} -f 7 -s 1 & python UDPc.py -i {UDP_IP} -p {UDP_PORT} -f 7 -s 1 & python UDPc.py -i {UDP_IP} -p {UDP_PORT} -f 7 -s 1\n",
    "\n",
    "# run exe (windows)\n",
    "# Desktop\\tetris.exe -i 192.168.66.62 -p 5000 -f 1 -s 0\n",
    "# Desktop\\tetris.exe -i 10.16.104.38 -p 5000 -f 1 -s 0\n",
    "\n",
    "# Docker\n",
    "# !xhost +local:\n",
    "# !docker run --device /dev/video0 --env=\"DISPLAY\" --volume=\"/tmp/.X11-unix:/tmp/.X11-unix:rw\" -p 5002:5002 -it udpc"
   ]
  },
  {
   "cell_type": "code",
   "execution_count": null,
   "metadata": {},
   "outputs": [],
   "source": []
  },
  {
   "cell_type": "code",
   "execution_count": null,
   "metadata": {},
   "outputs": [],
   "source": []
  }
 ],
 "metadata": {
  "interpreter": {
   "hash": "993befd26ec2f613a6eb584009b4d317fb46fdc8bc4bfa008c739de732d3bed5"
  },
  "kernelspec": {
   "display_name": "Python 3",
   "language": "python",
   "name": "python3"
  },
  "language_info": {
   "codemirror_mode": {
    "name": "ipython",
    "version": 3
   },
   "file_extension": ".py",
   "mimetype": "text/x-python",
   "name": "python",
   "nbconvert_exporter": "python",
   "pygments_lexer": "ipython3",
   "version": "3.8.5"
  }
 },
 "nbformat": 4,
 "nbformat_minor": 4
}
